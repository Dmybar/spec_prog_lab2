{
 "cells": [
  {
   "cell_type": "code",
   "execution_count": 1,
   "id": "bf23bc63",
   "metadata": {},
   "outputs": [],
   "source": [
    "import datetime, urllib, ssl\n",
    "import pandas as pd"
   ]
  },
  {
   "cell_type": "code",
   "execution_count": null,
   "id": "19f221d8",
   "metadata": {},
   "outputs": [],
   "source": [
    "def UkrVHI_in_csv_for_area(index_area):\n",
    "    ssl._create_default_https_context = ssl._create_unverified_context\n",
    "    url = 'https://www.star.nesdis.noaa.gov/smcd/emb/vci/VH/get_TS_admin.php?country=UKR&provinceID={}&year1=1981&year2=2022&type=Mean'.format(index_area)\n",
    "    wp = urllib.request.urlopen(url)\n",
    "    text = wp.read()\n",
    "    \n",
    "    time_now = datetime.datetime.now()\n",
    "    str_time_now = (str(time_now)).replace(' ', '_')\n",
    "    str_time_now = (str_time_now).replace(':', '-')\n",
    "    \n",
    "    file_name = \"VHI_id\"+str(index_area)+\"_\"+str_time_now+\".csv\"\n",
    "    \n",
    "    out=open('UkrVHI_csv/'+file_name, 'wb')\n",
    "    out.write(text)\n",
    "    out.close()\n",
    "    \n",
    "    return((file_name, index_area))"
   ]
  },
  {
   "cell_type": "code",
   "execution_count": null,
   "id": "9a8d34af",
   "metadata": {},
   "outputs": [],
   "source": [
    "list_UkrVHI_files = []\n",
    "for i in range(27):\n",
    "    if (i!=11) and (i!=19):\n",
    "        file_name, index_area = UkrVHI_in_csv_for_area(i+1)\n",
    "        list_UkrVHI_files.append((file_name, index_area))\n",
    "UkrVHI_files = pd.DataFrame(list_UkrVHI_files, columns=['file_name', 'index_area'])\n",
    "UkrVHI_files.to_csv('UkrVHI_csv/info.csv')"
   ]
  },
  {
   "cell_type": "code",
   "execution_count": 10,
   "id": "c71ee027",
   "metadata": {},
   "outputs": [],
   "source": [
    "df = pd.DataFrame()\n",
    "\n",
    "path='UkrVHI_csv/'\n",
    "UkrVHI_files = pd.read_csv(path+'info.csv',index_col=0)\n",
    "name_columns = ['Year', 'Week', 'SMN', 'SMT', 'VCI', 'TCI', 'VHI']\n",
    "\n",
    "for index in UkrVHI_files.index:\n",
    "    temp = pd.read_csv(path+UkrVHI_files['file_name'][index],header=1,index_col=False,names=name_columns)\n",
    "    temp = temp.assign(Area=UkrVHI_files['index_area'][index]) \n",
    "    df = pd.concat([df,temp],ignore_index=True)\n",
    "\n",
    "df = df.dropna()\n",
    "df = df.drop(df.loc[df['VHI']==-1].index)\n",
    "df['Year']=df['Year'].replace(['<tt><pre>1982'],'1982')\n",
    "df = df.astype({'Week':'int','Year':'int'})\n"
   ]
  },
  {
   "cell_type": "code",
   "execution_count": 3,
   "id": "5e07d167",
   "metadata": {},
   "outputs": [],
   "source": [
    "area_ch = {1:22,2:24,3:23,4:25,5:3,6:4,7:8,8:19,9:20,10:21,11:9,13:10,14:11,15:12,16:13,17:14,18:15,19:16,21:17,22:18,23:6,24:1,25:2,26:7,27:5}\n",
    "\n",
    "df['Area'].replace(area_ch,inplace=True)"
   ]
  },
  {
   "cell_type": "code",
   "execution_count": 4,
   "id": "b065e640",
   "metadata": {},
   "outputs": [],
   "source": [
    "def extremes_for_year(year,area):\n",
    "    location = df.loc[(df['Area']==area)&(df['Year']==year)]\n",
    "    minimum = min(location['VHI'])\n",
    "    maximum = max(location['VHI'])\n",
    "    print('For area',area,'in',year,': min(VHI) =',minimum,', max(VHI) =',maximum)\n",
    "    \n",
    "def extreme_drought(area):\n",
    "    location = df.loc[(df['Area']==area)&(df['VHI']<15)]\n",
    "    print('For area',area,'years with extreme drought:',location['Year'].unique())\n",
    "\n",
    "def moderate_drought(area):\n",
    "    location = df.loc[(df['Area']==area)&(df['VHI']<35)&(df['VHI']>=15)]\n",
    "    print('For area',area,'years with moderate drought:',location['Year'].unique())"
   ]
  },
  {
   "cell_type": "code",
   "execution_count": 5,
   "id": "6cad2d77",
   "metadata": {},
   "outputs": [
    {
     "name": "stdout",
     "output_type": "stream",
     "text": [
      "For area 5 in 2021 : min(VHI) = 36.11 , max(VHI) = 65.33\n"
     ]
    }
   ],
   "source": [
    "extremes_for_year(2021,5)"
   ]
  },
  {
   "cell_type": "code",
   "execution_count": 6,
   "id": "1b14ea6c",
   "metadata": {},
   "outputs": [
    {
     "name": "stdout",
     "output_type": "stream",
     "text": [
      "For area 20 years with extreme drought: [2003 2007]\n"
     ]
    }
   ],
   "source": [
    "extreme_drought(20)"
   ]
  },
  {
   "cell_type": "code",
   "execution_count": 7,
   "id": "8dca5473",
   "metadata": {},
   "outputs": [
    {
     "name": "stdout",
     "output_type": "stream",
     "text": [
      "For area 12 years with moderate drought: [1982 1983 1984 1985 1986 1987 1988 1989 1990 1991 1992 1993 1994 1995\n",
      " 1996 2000 2001 2007 2013 2015 2019]\n"
     ]
    }
   ],
   "source": [
    "moderate_drought(12)"
   ]
  }
 ],
 "metadata": {
  "kernelspec": {
   "display_name": "Python 3 (ipykernel)",
   "language": "python",
   "name": "python3"
  },
  "language_info": {
   "codemirror_mode": {
    "name": "ipython",
    "version": 3
   },
   "file_extension": ".py",
   "mimetype": "text/x-python",
   "name": "python",
   "nbconvert_exporter": "python",
   "pygments_lexer": "ipython3",
   "version": "3.9.13"
  }
 },
 "nbformat": 4,
 "nbformat_minor": 5
}
