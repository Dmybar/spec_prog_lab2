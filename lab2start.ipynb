{
 "cells": [
  {
   "cell_type": "code",
   "execution_count": null,
   "id": "b27ea3c2",
   "metadata": {},
   "outputs": [
    {
     "name": "stderr",
     "output_type": "stream",
     "text": [
      "WARNING:root:Warning: unable to set defaultencoding to utf-8\n",
      "[12/Dec/2022:11:08:49] ENGINE Listening for SIGTERM.\n",
      "INFO:cherrypy.error:[12/Dec/2022:11:08:49] ENGINE Listening for SIGTERM.\n",
      "[12/Dec/2022:11:08:49] ENGINE Bus STARTING\n",
      "INFO:cherrypy.error:[12/Dec/2022:11:08:49] ENGINE Bus STARTING\n",
      "CherryPy Checker:\n",
      "The Application mounted at '' has an empty config.\n",
      "\n",
      "[12/Dec/2022:11:08:49] ENGINE Set handler for console events.\n",
      "INFO:cherrypy.error:[12/Dec/2022:11:08:49] ENGINE Set handler for console events.\n",
      "[12/Dec/2022:11:08:49] ENGINE Started monitor thread 'Autoreloader'.\n",
      "INFO:cherrypy.error:[12/Dec/2022:11:08:49] ENGINE Started monitor thread 'Autoreloader'.\n",
      "[12/Dec/2022:11:08:49] ENGINE Serving on http://127.0.0.1:9092\n",
      "INFO:cherrypy.error:[12/Dec/2022:11:08:49] ENGINE Serving on http://127.0.0.1:9092\n",
      "[12/Dec/2022:11:08:49] ENGINE Bus STARTED\n",
      "INFO:cherrypy.error:[12/Dec/2022:11:08:49] ENGINE Bus STARTED\n"
     ]
    },
    {
     "name": "stdout",
     "output_type": "stream",
     "text": [
      "127.0.0.1 - - [12/Dec/2022:11:08:50] \"GET / HTTP/1.1\" 200 442064 \"http://localhost:8888/\" \"Mozilla/5.0 (Windows NT 10.0; Win64; x64) AppleWebKit/537.36 (KHTML, like Gecko) Chrome/108.0.0.0 Safari/537.36\"\n"
     ]
    },
    {
     "name": "stderr",
     "output_type": "stream",
     "text": [
      "INFO:cherrypy.access.2375231716896:127.0.0.1 - - [12/Dec/2022:11:08:50] \"GET / HTTP/1.1\" 200 442064 \"http://localhost:8888/\" \"Mozilla/5.0 (Windows NT 10.0; Win64; x64) AppleWebKit/537.36 (KHTML, like Gecko) Chrome/108.0.0.0 Safari/537.36\"\n"
     ]
    },
    {
     "name": "stdout",
     "output_type": "stream",
     "text": [
      "127.0.0.1 - - [12/Dec/2022:11:08:51] \"GET /table?ticker1=VCI&ticker2=1&range_week=9-10&output_id=table_id& HTTP/1.1\" 200 6583 \"http://127.0.0.1:9092/\" \"Mozilla/5.0 (Windows NT 10.0; Win64; x64) AppleWebKit/537.36 (KHTML, like Gecko) Chrome/108.0.0.0 Safari/537.36\"\n"
     ]
    },
    {
     "name": "stderr",
     "output_type": "stream",
     "text": [
      "INFO:cherrypy.access.2375231716896:127.0.0.1 - - [12/Dec/2022:11:08:51] \"GET /table?ticker1=VCI&ticker2=1&range_week=9-10&output_id=table_id& HTTP/1.1\" 200 6583 \"http://127.0.0.1:9092/\" \"Mozilla/5.0 (Windows NT 10.0; Win64; x64) AppleWebKit/537.36 (KHTML, like Gecko) Chrome/108.0.0.0 Safari/537.36\"\n"
     ]
    },
    {
     "name": "stdout",
     "output_type": "stream",
     "text": [
      "127.0.0.1 - - [12/Dec/2022:11:08:51] \"GET /html?ticker1=VCI&ticker2=1&range_week=9-10&output_id=simple_html_output& HTTP/1.1\" 200 4 \"http://127.0.0.1:9092/\" \"Mozilla/5.0 (Windows NT 10.0; Win64; x64) AppleWebKit/537.36 (KHTML, like Gecko) Chrome/108.0.0.0 Safari/537.36\"\n"
     ]
    },
    {
     "name": "stderr",
     "output_type": "stream",
     "text": [
      "INFO:cherrypy.access.2375231716896:127.0.0.1 - - [12/Dec/2022:11:08:51] \"GET /html?ticker1=VCI&ticker2=1&range_week=9-10&output_id=simple_html_output& HTTP/1.1\" 200 4 \"http://127.0.0.1:9092/\" \"Mozilla/5.0 (Windows NT 10.0; Win64; x64) AppleWebKit/537.36 (KHTML, like Gecko) Chrome/108.0.0.0 Safari/537.36\"\n"
     ]
    },
    {
     "name": "stdout",
     "output_type": "stream",
     "text": [
      "127.0.0.1 - - [12/Dec/2022:11:08:51] \"GET /spinning_wheel HTTP/1.1\" 200 2663 \"http://127.0.0.1:9092/\" \"Mozilla/5.0 (Windows NT 10.0; Win64; x64) AppleWebKit/537.36 (KHTML, like Gecko) Chrome/108.0.0.0 Safari/537.36\"\n"
     ]
    },
    {
     "name": "stderr",
     "output_type": "stream",
     "text": [
      "INFO:cherrypy.access.2375231716896:127.0.0.1 - - [12/Dec/2022:11:08:51] \"GET /spinning_wheel HTTP/1.1\" 200 2663 \"http://127.0.0.1:9092/\" \"Mozilla/5.0 (Windows NT 10.0; Win64; x64) AppleWebKit/537.36 (KHTML, like Gecko) Chrome/108.0.0.0 Safari/537.36\"\n",
      "ERROR:root:Error: getPlot method must return an pyplot figure or matplotlib Axes object\n"
     ]
    },
    {
     "name": "stdout",
     "output_type": "stream",
     "text": [
      "127.0.0.1 - - [12/Dec/2022:11:08:52] \"GET /plot?ticker1=VCI&ticker2=1&range_week=9-10&output_id=plot& HTTP/1.1\" 200 85056 \"http://127.0.0.1:9092/\" \"Mozilla/5.0 (Windows NT 10.0; Win64; x64) AppleWebKit/537.36 (KHTML, like Gecko) Chrome/108.0.0.0 Safari/537.36\"\n"
     ]
    },
    {
     "name": "stderr",
     "output_type": "stream",
     "text": [
      "INFO:cherrypy.access.2375231716896:127.0.0.1 - - [12/Dec/2022:11:08:52] \"GET /plot?ticker1=VCI&ticker2=1&range_week=9-10&output_id=plot& HTTP/1.1\" 200 85056 \"http://127.0.0.1:9092/\" \"Mozilla/5.0 (Windows NT 10.0; Win64; x64) AppleWebKit/537.36 (KHTML, like Gecko) Chrome/108.0.0.0 Safari/537.36\"\n"
     ]
    },
    {
     "name": "stdout",
     "output_type": "stream",
     "text": [
      "127.0.0.1 - - [12/Dec/2022:11:08:52] \"GET /favicon.ico HTTP/1.1\" 200 1406 \"http://127.0.0.1:9092/\" \"Mozilla/5.0 (Windows NT 10.0; Win64; x64) AppleWebKit/537.36 (KHTML, like Gecko) Chrome/108.0.0.0 Safari/537.36\"\n"
     ]
    },
    {
     "name": "stderr",
     "output_type": "stream",
     "text": [
      "INFO:cherrypy.access.2375231716896:127.0.0.1 - - [12/Dec/2022:11:08:52] \"GET /favicon.ico HTTP/1.1\" 200 1406 \"http://127.0.0.1:9092/\" \"Mozilla/5.0 (Windows NT 10.0; Win64; x64) AppleWebKit/537.36 (KHTML, like Gecko) Chrome/108.0.0.0 Safari/537.36\"\n"
     ]
    }
   ],
   "source": [
    "%run lab2.py"
   ]
  },
  {
   "cell_type": "code",
   "execution_count": null,
   "id": "d28548c9",
   "metadata": {},
   "outputs": [],
   "source": []
  }
 ],
 "metadata": {
  "kernelspec": {
   "display_name": "Python 3 (ipykernel)",
   "language": "python",
   "name": "python3"
  },
  "language_info": {
   "codemirror_mode": {
    "name": "ipython",
    "version": 3
   },
   "file_extension": ".py",
   "mimetype": "text/x-python",
   "name": "python",
   "nbconvert_exporter": "python",
   "pygments_lexer": "ipython3",
   "version": "3.9.13"
  }
 },
 "nbformat": 4,
 "nbformat_minor": 5
}
